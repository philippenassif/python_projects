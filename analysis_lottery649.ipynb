{
 "cells": [
  {
   "cell_type": "markdown",
   "metadata": {},
   "source": [
    "# Lottery probability calculations"
   ]
  },
  {
   "cell_type": "markdown",
   "metadata": {},
   "source": [
    "The goal of this project is to calculate probability functions for the lottery 6/49.\n",
    "\n",
    "Here are examples of scenarios we would like to calculate in this project :\n",
    "\n",
    "What is the probability of winning the big prize with a single ticket?\n",
    "What is the probability of winning the big prize if we play 40 different tickets (or any other number)?\n",
    "What is the probability of having at least five (or four, or three, or two) winning numbers on a single ticket?\n"
   ]
  },
  {
   "cell_type": "markdown",
   "metadata": {},
   "source": [
    "### Common functions"
   ]
  },
  {
   "cell_type": "markdown",
   "metadata": {},
   "source": [
    "There are some formulas we will use many times, the factorial formula and the combinations formula, so let's create a function for each of these formulas."
   ]
  },
  {
   "cell_type": "code",
   "execution_count": 1,
   "metadata": {},
   "outputs": [],
   "source": [
    "#Function to calculate factorials\n",
    "def factorial(n):\n",
    "    r = 1\n",
    "    for i in range(n,0,-1):\n",
    "        r *= i\n",
    "    return r\n",
    "\n",
    "#Function to calculate combinations\n",
    "def combinations(n,k):\n",
    "    r = factorial(n) / (factorial(k) * factorial(n-k))\n",
    "    return r"
   ]
  },
  {
   "cell_type": "markdown",
   "metadata": {},
   "source": [
    "### One ticket probability"
   ]
  },
  {
   "cell_type": "markdown",
   "metadata": {},
   "source": [
    "We now want to write a function with the following conditions :\n",
    "\n",
    "Inside the app, the user inputs six different numbers from 1 to 49.\n",
    "Under the hood, the six numbers will come as a Python list, which will serve as the single input to our function.\n",
    "We want the function to print the probability value in a friendly way, meaning in a way that without any knowledge of probabilities, people will still be able to understand."
   ]
  },
  {
   "cell_type": "code",
   "execution_count": 2,
   "metadata": {},
   "outputs": [
    {
     "name": "stdout",
     "output_type": "stream",
     "text": [
      "The probability of winning with your numbers [23, 24, 25, 35, 46, 54] is 0.0000072%. In other words you have 1 chance in 13,983,816.\n",
      "None\n",
      "\n",
      "The probability of winning with your numbers [3, 2, 5, 25, 4, 44] is 0.0000072%. In other words you have 1 chance in 13,983,816.\n",
      "None\n"
     ]
    }
   ],
   "source": [
    "def one_ticket_probability(x1,x2,x3,x4,x5,x6):\n",
    "    sequence = [x1,x2,x3,x4,x5,x6]\n",
    "    length = len(sequence)\n",
    "    prob = int(combinations(49, length))\n",
    "    percent_form = 1 / prob * 100\n",
    "    message = \"The probability of winning with your numbers {} is {:.7f}%. \".format(sequence, \n",
    "  percent_form) + \"In other words you have 1 chance in {:,}.\".format(int(prob))\n",
    "    return print(message)\n",
    "\n",
    "#test the function\n",
    "print(one_ticket_probability(23,24,25,35,46,54))\n",
    "print()\n",
    "print(one_ticket_probability(3,2,5,25,4,44))"
   ]
  },
  {
   "cell_type": "markdown",
   "metadata": {
    "collapsed": true
   },
   "source": [
    "### Historical Data Check for Canada Lottery"
   ]
  },
  {
   "cell_type": "markdown",
   "metadata": {},
   "source": [
    "Let's compare the probabilities with some historical data draws."
   ]
  },
  {
   "cell_type": "code",
   "execution_count": 3,
   "metadata": {},
   "outputs": [],
   "source": [
    "import pandas as pd\n",
    "import numpy as np\n",
    "\n",
    "lottery_canada = pd.read_csv(\"649.csv\")"
   ]
  },
  {
   "cell_type": "code",
   "execution_count": 4,
   "metadata": {},
   "outputs": [
    {
     "name": "stdout",
     "output_type": "stream",
     "text": [
      "(3665, 11)\n"
     ]
    },
    {
     "data": {
      "text/html": [
       "<div>\n",
       "<style scoped>\n",
       "    .dataframe tbody tr th:only-of-type {\n",
       "        vertical-align: middle;\n",
       "    }\n",
       "\n",
       "    .dataframe tbody tr th {\n",
       "        vertical-align: top;\n",
       "    }\n",
       "\n",
       "    .dataframe thead th {\n",
       "        text-align: right;\n",
       "    }\n",
       "</style>\n",
       "<table border=\"1\" class=\"dataframe\">\n",
       "  <thead>\n",
       "    <tr style=\"text-align: right;\">\n",
       "      <th></th>\n",
       "      <th>PRODUCT</th>\n",
       "      <th>DRAW NUMBER</th>\n",
       "      <th>SEQUENCE NUMBER</th>\n",
       "      <th>DRAW DATE</th>\n",
       "      <th>NUMBER DRAWN 1</th>\n",
       "      <th>NUMBER DRAWN 2</th>\n",
       "      <th>NUMBER DRAWN 3</th>\n",
       "      <th>NUMBER DRAWN 4</th>\n",
       "      <th>NUMBER DRAWN 5</th>\n",
       "      <th>NUMBER DRAWN 6</th>\n",
       "      <th>BONUS NUMBER</th>\n",
       "    </tr>\n",
       "  </thead>\n",
       "  <tbody>\n",
       "    <tr>\n",
       "      <td>0</td>\n",
       "      <td>649</td>\n",
       "      <td>1</td>\n",
       "      <td>0</td>\n",
       "      <td>6/12/1982</td>\n",
       "      <td>3</td>\n",
       "      <td>11</td>\n",
       "      <td>12</td>\n",
       "      <td>14</td>\n",
       "      <td>41</td>\n",
       "      <td>43</td>\n",
       "      <td>13</td>\n",
       "    </tr>\n",
       "    <tr>\n",
       "      <td>1</td>\n",
       "      <td>649</td>\n",
       "      <td>2</td>\n",
       "      <td>0</td>\n",
       "      <td>6/19/1982</td>\n",
       "      <td>8</td>\n",
       "      <td>33</td>\n",
       "      <td>36</td>\n",
       "      <td>37</td>\n",
       "      <td>39</td>\n",
       "      <td>41</td>\n",
       "      <td>9</td>\n",
       "    </tr>\n",
       "    <tr>\n",
       "      <td>2</td>\n",
       "      <td>649</td>\n",
       "      <td>3</td>\n",
       "      <td>0</td>\n",
       "      <td>6/26/1982</td>\n",
       "      <td>1</td>\n",
       "      <td>6</td>\n",
       "      <td>23</td>\n",
       "      <td>24</td>\n",
       "      <td>27</td>\n",
       "      <td>39</td>\n",
       "      <td>34</td>\n",
       "    </tr>\n",
       "  </tbody>\n",
       "</table>\n",
       "</div>"
      ],
      "text/plain": [
       "   PRODUCT  DRAW NUMBER  SEQUENCE NUMBER  DRAW DATE  NUMBER DRAWN 1  \\\n",
       "0      649            1                0  6/12/1982               3   \n",
       "1      649            2                0  6/19/1982               8   \n",
       "2      649            3                0  6/26/1982               1   \n",
       "\n",
       "   NUMBER DRAWN 2  NUMBER DRAWN 3  NUMBER DRAWN 4  NUMBER DRAWN 5  \\\n",
       "0              11              12              14              41   \n",
       "1              33              36              37              39   \n",
       "2               6              23              24              27   \n",
       "\n",
       "   NUMBER DRAWN 6  BONUS NUMBER  \n",
       "0              43            13  \n",
       "1              41             9  \n",
       "2              39            34  "
      ]
     },
     "execution_count": 4,
     "metadata": {},
     "output_type": "execute_result"
    }
   ],
   "source": [
    "print(lottery_canada.shape)\n",
    "lottery_canada.head(3)"
   ]
  },
  {
   "cell_type": "code",
   "execution_count": 5,
   "metadata": {},
   "outputs": [
    {
     "data": {
      "text/html": [
       "<div>\n",
       "<style scoped>\n",
       "    .dataframe tbody tr th:only-of-type {\n",
       "        vertical-align: middle;\n",
       "    }\n",
       "\n",
       "    .dataframe tbody tr th {\n",
       "        vertical-align: top;\n",
       "    }\n",
       "\n",
       "    .dataframe thead th {\n",
       "        text-align: right;\n",
       "    }\n",
       "</style>\n",
       "<table border=\"1\" class=\"dataframe\">\n",
       "  <thead>\n",
       "    <tr style=\"text-align: right;\">\n",
       "      <th></th>\n",
       "      <th>PRODUCT</th>\n",
       "      <th>DRAW NUMBER</th>\n",
       "      <th>SEQUENCE NUMBER</th>\n",
       "      <th>DRAW DATE</th>\n",
       "      <th>NUMBER DRAWN 1</th>\n",
       "      <th>NUMBER DRAWN 2</th>\n",
       "      <th>NUMBER DRAWN 3</th>\n",
       "      <th>NUMBER DRAWN 4</th>\n",
       "      <th>NUMBER DRAWN 5</th>\n",
       "      <th>NUMBER DRAWN 6</th>\n",
       "      <th>BONUS NUMBER</th>\n",
       "    </tr>\n",
       "  </thead>\n",
       "  <tbody>\n",
       "    <tr>\n",
       "      <td>3662</td>\n",
       "      <td>649</td>\n",
       "      <td>3589</td>\n",
       "      <td>0</td>\n",
       "      <td>6/13/2018</td>\n",
       "      <td>6</td>\n",
       "      <td>22</td>\n",
       "      <td>24</td>\n",
       "      <td>31</td>\n",
       "      <td>32</td>\n",
       "      <td>34</td>\n",
       "      <td>16</td>\n",
       "    </tr>\n",
       "    <tr>\n",
       "      <td>3663</td>\n",
       "      <td>649</td>\n",
       "      <td>3590</td>\n",
       "      <td>0</td>\n",
       "      <td>6/16/2018</td>\n",
       "      <td>2</td>\n",
       "      <td>15</td>\n",
       "      <td>21</td>\n",
       "      <td>31</td>\n",
       "      <td>38</td>\n",
       "      <td>49</td>\n",
       "      <td>8</td>\n",
       "    </tr>\n",
       "    <tr>\n",
       "      <td>3664</td>\n",
       "      <td>649</td>\n",
       "      <td>3591</td>\n",
       "      <td>0</td>\n",
       "      <td>6/20/2018</td>\n",
       "      <td>14</td>\n",
       "      <td>24</td>\n",
       "      <td>31</td>\n",
       "      <td>35</td>\n",
       "      <td>37</td>\n",
       "      <td>48</td>\n",
       "      <td>17</td>\n",
       "    </tr>\n",
       "  </tbody>\n",
       "</table>\n",
       "</div>"
      ],
      "text/plain": [
       "      PRODUCT  DRAW NUMBER  SEQUENCE NUMBER  DRAW DATE  NUMBER DRAWN 1  \\\n",
       "3662      649         3589                0  6/13/2018               6   \n",
       "3663      649         3590                0  6/16/2018               2   \n",
       "3664      649         3591                0  6/20/2018              14   \n",
       "\n",
       "      NUMBER DRAWN 2  NUMBER DRAWN 3  NUMBER DRAWN 4  NUMBER DRAWN 5  \\\n",
       "3662              22              24              31              32   \n",
       "3663              15              21              31              38   \n",
       "3664              24              31              35              37   \n",
       "\n",
       "      NUMBER DRAWN 6  BONUS NUMBER  \n",
       "3662              34            16  \n",
       "3663              49             8  \n",
       "3664              48            17  "
      ]
     },
     "execution_count": 5,
     "metadata": {},
     "output_type": "execute_result"
    }
   ],
   "source": [
    "lottery_canada.tail(3)"
   ]
  },
  {
   "cell_type": "markdown",
   "metadata": {},
   "source": [
    "We're going to write a function that will enable users to compare their ticket against the historical lottery data in Canada and determine whether they would have ever won by now.\n",
    "\n",
    "We want the following conditions:\n",
    "\n",
    "Inside the app, the user inputs six different numbers from 1 to 49.\n",
    "Under the hood, the six numbers will come as a Python list and serve as an input to our function.\n",
    "We want to write a function that prints:\n",
    "the number of times the combination selected occurred in the Canada data set; and\n",
    "the probability of winning the big prize in the next drawing with that combination."
   ]
  },
  {
   "cell_type": "markdown",
   "metadata": {},
   "source": [
    "We first write a function that extracts the historical winning numbers."
   ]
  },
  {
   "cell_type": "code",
   "execution_count": 6,
   "metadata": {},
   "outputs": [
    {
     "name": "stdout",
     "output_type": "stream",
     "text": [
      "[3, 11, 12, 14, 41, 43]\n"
     ]
    }
   ],
   "source": [
    "#This initial way of writing the function does not work, so I rewrote the function\n",
    "def extract_numbers_wrong(x):\n",
    "    #seq = []\n",
    "    seq = [lottery_canada.loc[x,'NUMBER DRAWN 1'], \n",
    "           lottery_canada.loc[x,'NUMBER DRAWN 2'], \n",
    "           lottery_canada.loc[x,'NUMBER DRAWN 3'], \n",
    "           lottery_canada.loc[x,'NUMBER DRAWN 4'],\n",
    "           lottery_canada.loc[x,'NUMBER DRAWN 5'], \n",
    "           lottery_canada.loc[x,'NUMBER DRAWN 6']]\n",
    "    return seq\n",
    "\n",
    "#test function extract_numbers\n",
    "print(extract_numbers_wrong(0))"
   ]
  },
  {
   "cell_type": "code",
   "execution_count": 7,
   "metadata": {},
   "outputs": [],
   "source": [
    "def extract_numbers(ser):\n",
    "    vals = ser[4:10]\n",
    "    seq = {vals[0],vals[1],vals[2],vals[3],vals[4],vals[5]}\n",
    "    return seq\n",
    "\n",
    "win_numbers = lottery_canada.apply(extract_numbers, axis = 1)"
   ]
  },
  {
   "cell_type": "code",
   "execution_count": 8,
   "metadata": {},
   "outputs": [
    {
     "data": {
      "text/plain": [
       "0    {3, 41, 11, 12, 43, 14}\n",
       "1    {33, 36, 37, 39, 8, 41}\n",
       "2     {1, 6, 39, 23, 24, 27}\n",
       "3     {3, 9, 10, 43, 13, 20}\n",
       "4    {34, 5, 14, 47, 21, 31}\n",
       "dtype: object"
      ]
     },
     "execution_count": 8,
     "metadata": {},
     "output_type": "execute_result"
    }
   ],
   "source": [
    "win_numbers.head()"
   ]
  },
  {
   "cell_type": "markdown",
   "metadata": {},
   "source": [
    "Now we write the function that compares the users input with historical winning sequences."
   ]
  },
  {
   "cell_type": "code",
   "execution_count": 9,
   "metadata": {},
   "outputs": [
    {
     "name": "stdout",
     "output_type": "stream",
     "text": [
      "In the past, your number won 1 time/s. Your chances to win the big prize in the next drawing using your combination are 0.0000072%\n"
     ]
    }
   ],
   "source": [
    "#user is a list that the user inputs. hist is the historical winning sequences.\n",
    "def check_historical_occurence(user, hist):\n",
    "    vals_u = set(user)\n",
    "    bool_match = vals_u == hist\n",
    "    tot = bool_match.sum()\n",
    "    message = print(\"In the past, your number won {} time/s. \\\n",
    "Your chances to win the big prize in the next drawing using \\\n",
    "your combination are 0.0000072%\".format(tot))\n",
    "    return message\n",
    "\n",
    "#Here we test an input\n",
    "user_input = [3,41,43,12,11,14]\n",
    "check_historical_occurence(user_input, win_numbers)\n"
   ]
  },
  {
   "cell_type": "markdown",
   "metadata": {},
   "source": [
    "### Multi ticket chances"
   ]
  },
  {
   "cell_type": "markdown",
   "metadata": {},
   "source": [
    "We're going to write a function that will allow the users to calculate the chances of winning for any number of different tickets.\n",
    "\n",
    "The user will input the number of different tickets they want to play (without inputting the specific combinations they intend to play).\n",
    "Our function will see an integer between 1 and 13,983,816 (the maximum number of different tickets).\n",
    "The function should print information about the probability of winning the big prize depending on the number of different tickets played."
   ]
  },
  {
   "cell_type": "code",
   "execution_count": 10,
   "metadata": {},
   "outputs": [
    {
     "name": "stdout",
     "output_type": "stream",
     "text": [
      "Your chances of winning with 1 tickets is 0.0000072% .\n",
      "Your chances of winning with 10 tickets is 0.0000715% .\n",
      "Your chances of winning with 100 tickets is 0.0007151% .\n",
      "Your chances of winning with 10000 tickets is 0.0715112% .\n",
      "Your chances of winning with 1000000 tickets is 7.1511238% .\n",
      "Your chances of winning with 6991908 tickets is 50.0000000% .\n",
      "Your chances of winning with 13983816 tickets is 100.0000000% .\n"
     ]
    }
   ],
   "source": [
    "def multi_ticket_probability(x) :\n",
    "    possible_outcomes = combinations(49, 6)\n",
    "    chances_win = x / possible_outcomes\n",
    "    percent_format = chances_win * 100\n",
    "    message = \"Your chances of winning with {} tickets is {:.7f}% .\".format(x,percent_format)\n",
    "    return message\n",
    "\n",
    "#Testing the function\n",
    "\n",
    "test_inputs = [1, 10, 100, 10000, 1000000, 6991908, 13983816]\n",
    "for i in test_inputs:\n",
    "    print(multi_ticket_probability(i))"
   ]
  },
  {
   "cell_type": "markdown",
   "metadata": {},
   "source": [
    "### n winning numbers"
   ]
  },
  {
   "cell_type": "markdown",
   "metadata": {
    "collapsed": true
   },
   "source": [
    "Now we're going to write one more function to allow the users to calculate probabilities for two, three, four, or five winning numbers.\n",
    "\n",
    "Inside the app, the user inputs:\n",
    "six different numbers from 1 to 49; and\n",
    "an integer between 2 and 5 that represents the number of winning numbers expected.\n",
    "Our function prints information about the probability of having exactly the inputted number of winning numbers."
   ]
  },
  {
   "cell_type": "code",
   "execution_count": 11,
   "metadata": {},
   "outputs": [
    {
     "name": "stdout",
     "output_type": "stream",
     "text": [
      "Chances of having 5 correct numbers : 0.0018450%\n"
     ]
    }
   ],
   "source": [
    "def probability_less_6(user_guess):\n",
    "    a = combinations(6,user_guess)\n",
    "    \n",
    "    diff = 6-user_guess\n",
    "    b = 49-user_guess-diff\n",
    "    \n",
    "    c = factorial(b) / (factorial(diff) * factorial(b-diff))\n",
    "    #c could also be written : c = combinations(43,diff)\n",
    "    \n",
    "    final = a * c / combinations(49,6)\n",
    "    percent_final = final * 100\n",
    "    return percent_final\n",
    "\n",
    "user_input = [3,41,43,12,11,14]\n",
    "user_number = 5\n",
    "\n",
    "print(\"Chances of having {} correct numbers : {:.7f}%\".format(user_number,probability_less_6(user_number)))"
   ]
  },
  {
   "cell_type": "markdown",
   "metadata": {},
   "source": [
    "Let's test the function for either 2, 3 , 4 or 5 winning numbers :"
   ]
  },
  {
   "cell_type": "code",
   "execution_count": 12,
   "metadata": {},
   "outputs": [
    {
     "name": "stdout",
     "output_type": "stream",
     "text": [
      "Chances of having 1 correct numbers : 41.3019450%\n",
      "Chances of having 2 correct numbers : 13.2378029%\n",
      "Chances of having 3 correct numbers : 1.7650404%\n",
      "Chances of having 4 correct numbers : 0.0968620%\n",
      "Chances of having 5 correct numbers : 0.0018450%\n"
     ]
    }
   ],
   "source": [
    "for i in range(1,6):\n",
    "    print(\"Chances of having {} correct numbers : {:.7f}%\".format(i,probability_less_6(i)))"
   ]
  }
 ],
 "metadata": {
  "kernelspec": {
   "display_name": "Python 3",
   "language": "python",
   "name": "python3"
  },
  "language_info": {
   "codemirror_mode": {
    "name": "ipython",
    "version": 3
   },
   "file_extension": ".py",
   "mimetype": "text/x-python",
   "name": "python",
   "nbconvert_exporter": "python",
   "pygments_lexer": "ipython3",
   "version": "3.7.4"
  }
 },
 "nbformat": 4,
 "nbformat_minor": 2
}
