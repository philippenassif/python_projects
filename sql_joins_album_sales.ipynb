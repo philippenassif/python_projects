{
 "cells": [
  {
   "cell_type": "markdown",
   "metadata": {},
   "source": [
    "# SQL joins - Album invoices analysis"
   ]
  },
  {
   "cell_type": "markdown",
   "metadata": {},
   "source": [
    "### Starting SQL"
   ]
  },
  {
   "cell_type": "code",
   "execution_count": 1,
   "metadata": {},
   "outputs": [],
   "source": [
    "%%capture\n",
    "%load_ext sql\n",
    "%sql sqlite:///chinook.db"
   ]
  },
  {
   "cell_type": "markdown",
   "metadata": {},
   "source": [
    "### Overview of tables"
   ]
  },
  {
   "cell_type": "code",
   "execution_count": 2,
   "metadata": {},
   "outputs": [
    {
     "name": "stdout",
     "output_type": "stream",
     "text": [
      " * sqlite:///chinook.db\n",
      "Done.\n"
     ]
    },
    {
     "data": {
      "text/html": [
       "<table>\n",
       "    <tr>\n",
       "        <th>name</th>\n",
       "        <th>type</th>\n",
       "    </tr>\n",
       "    <tr>\n",
       "        <td>album</td>\n",
       "        <td>table</td>\n",
       "    </tr>\n",
       "    <tr>\n",
       "        <td>artist</td>\n",
       "        <td>table</td>\n",
       "    </tr>\n",
       "    <tr>\n",
       "        <td>customer</td>\n",
       "        <td>table</td>\n",
       "    </tr>\n",
       "    <tr>\n",
       "        <td>employee</td>\n",
       "        <td>table</td>\n",
       "    </tr>\n",
       "    <tr>\n",
       "        <td>genre</td>\n",
       "        <td>table</td>\n",
       "    </tr>\n",
       "    <tr>\n",
       "        <td>invoice</td>\n",
       "        <td>table</td>\n",
       "    </tr>\n",
       "    <tr>\n",
       "        <td>invoice_line</td>\n",
       "        <td>table</td>\n",
       "    </tr>\n",
       "    <tr>\n",
       "        <td>media_type</td>\n",
       "        <td>table</td>\n",
       "    </tr>\n",
       "    <tr>\n",
       "        <td>playlist</td>\n",
       "        <td>table</td>\n",
       "    </tr>\n",
       "    <tr>\n",
       "        <td>playlist_track</td>\n",
       "        <td>table</td>\n",
       "    </tr>\n",
       "    <tr>\n",
       "        <td>track</td>\n",
       "        <td>table</td>\n",
       "    </tr>\n",
       "</table>"
      ],
      "text/plain": [
       "[('album', 'table'),\n",
       " ('artist', 'table'),\n",
       " ('customer', 'table'),\n",
       " ('employee', 'table'),\n",
       " ('genre', 'table'),\n",
       " ('invoice', 'table'),\n",
       " ('invoice_line', 'table'),\n",
       " ('media_type', 'table'),\n",
       " ('playlist', 'table'),\n",
       " ('playlist_track', 'table'),\n",
       " ('track', 'table')]"
      ]
     },
     "execution_count": 2,
     "metadata": {},
     "output_type": "execute_result"
    }
   ],
   "source": [
    "%%sql\n",
    "SELECT\n",
    "    name,\n",
    "    type\n",
    "FROM sqlite_master\n",
    "WHERE type IN (\"table\",\"view\");"
   ]
  },
  {
   "cell_type": "markdown",
   "metadata": {},
   "source": [
    "### Test query"
   ]
  },
  {
   "cell_type": "markdown",
   "metadata": {},
   "source": [
    "We do a quick test query to make sure it's working properly before starting our analysis."
   ]
  },
  {
   "cell_type": "code",
   "execution_count": 3,
   "metadata": {},
   "outputs": [
    {
     "name": "stdout",
     "output_type": "stream",
     "text": [
      " * sqlite:///chinook.db\n",
      "Done.\n"
     ]
    },
    {
     "data": {
      "text/html": [
       "<table>\n",
       "    <tr>\n",
       "        <th>customer_id</th>\n",
       "        <th>first_name</th>\n",
       "        <th>last_name</th>\n",
       "        <th>total</th>\n",
       "    </tr>\n",
       "    <tr>\n",
       "        <td>1</td>\n",
       "        <td>Luís</td>\n",
       "        <td>Gonçalves</td>\n",
       "        <td>8.91</td>\n",
       "    </tr>\n",
       "    <tr>\n",
       "        <td>1</td>\n",
       "        <td>Luís</td>\n",
       "        <td>Gonçalves</td>\n",
       "        <td>5.9399999999999995</td>\n",
       "    </tr>\n",
       "    <tr>\n",
       "        <td>1</td>\n",
       "        <td>Luís</td>\n",
       "        <td>Gonçalves</td>\n",
       "        <td>8.91</td>\n",
       "    </tr>\n",
       "    <tr>\n",
       "        <td>1</td>\n",
       "        <td>Luís</td>\n",
       "        <td>Gonçalves</td>\n",
       "        <td>13.86</td>\n",
       "    </tr>\n",
       "    <tr>\n",
       "        <td>1</td>\n",
       "        <td>Luís</td>\n",
       "        <td>Gonçalves</td>\n",
       "        <td>5.9399999999999995</td>\n",
       "    </tr>\n",
       "</table>"
      ],
      "text/plain": [
       "[(1, 'Luís', 'Gonçalves', 8.91),\n",
       " (1, 'Luís', 'Gonçalves', 5.9399999999999995),\n",
       " (1, 'Luís', 'Gonçalves', 8.91),\n",
       " (1, 'Luís', 'Gonçalves', 13.86),\n",
       " (1, 'Luís', 'Gonçalves', 5.9399999999999995)]"
      ]
     },
     "execution_count": 3,
     "metadata": {},
     "output_type": "execute_result"
    }
   ],
   "source": [
    "%%sql\n",
    "SELECT\n",
    "    c.customer_id,\n",
    "    c.first_name,\n",
    "    c.last_name,\n",
    "    i.total\n",
    "FROM customer c LEFT JOIN invoice i ON c.customer_id = i.customer_id\n",
    "LIMIT 5"
   ]
  },
  {
   "cell_type": "markdown",
   "metadata": {},
   "source": [
    "### Tracks sold per genre"
   ]
  },
  {
   "cell_type": "markdown",
   "metadata": {},
   "source": [
    "We first want to look at the most popular genres in the USA."
   ]
  },
  {
   "cell_type": "code",
   "execution_count": 4,
   "metadata": {},
   "outputs": [
    {
     "name": "stdout",
     "output_type": "stream",
     "text": [
      " * sqlite:///chinook.db\n",
      "Done.\n"
     ]
    },
    {
     "data": {
      "text/html": [
       "<table>\n",
       "    <tr>\n",
       "        <th>genre_id</th>\n",
       "        <th>genre_name</th>\n",
       "        <th>tracks_sold</th>\n",
       "        <th>percentage</th>\n",
       "    </tr>\n",
       "    <tr>\n",
       "        <td>1</td>\n",
       "        <td>Rock</td>\n",
       "        <td>561</td>\n",
       "        <td>0.5337773549000951</td>\n",
       "    </tr>\n",
       "    <tr>\n",
       "        <td>4</td>\n",
       "        <td>Alternative &amp; Punk</td>\n",
       "        <td>130</td>\n",
       "        <td>0.12369172216936251</td>\n",
       "    </tr>\n",
       "    <tr>\n",
       "        <td>3</td>\n",
       "        <td>Metal</td>\n",
       "        <td>124</td>\n",
       "        <td>0.11798287345385347</td>\n",
       "    </tr>\n",
       "    <tr>\n",
       "        <td>14</td>\n",
       "        <td>R&amp;B/Soul</td>\n",
       "        <td>53</td>\n",
       "        <td>0.05042816365366318</td>\n",
       "    </tr>\n",
       "    <tr>\n",
       "        <td>6</td>\n",
       "        <td>Blues</td>\n",
       "        <td>36</td>\n",
       "        <td>0.03425309229305423</td>\n",
       "    </tr>\n",
       "    <tr>\n",
       "        <td>23</td>\n",
       "        <td>Alternative</td>\n",
       "        <td>35</td>\n",
       "        <td>0.03330161750713606</td>\n",
       "    </tr>\n",
       "    <tr>\n",
       "        <td>9</td>\n",
       "        <td>Pop</td>\n",
       "        <td>22</td>\n",
       "        <td>0.02093244529019981</td>\n",
       "    </tr>\n",
       "    <tr>\n",
       "        <td>7</td>\n",
       "        <td>Latin</td>\n",
       "        <td>22</td>\n",
       "        <td>0.02093244529019981</td>\n",
       "    </tr>\n",
       "    <tr>\n",
       "        <td>17</td>\n",
       "        <td>Hip Hop/Rap</td>\n",
       "        <td>20</td>\n",
       "        <td>0.019029495718363463</td>\n",
       "    </tr>\n",
       "    <tr>\n",
       "        <td>2</td>\n",
       "        <td>Jazz</td>\n",
       "        <td>14</td>\n",
       "        <td>0.013320647002854425</td>\n",
       "    </tr>\n",
       "</table>"
      ],
      "text/plain": [
       "[(1, 'Rock', 561, 0.5337773549000951),\n",
       " (4, 'Alternative & Punk', 130, 0.12369172216936251),\n",
       " (3, 'Metal', 124, 0.11798287345385347),\n",
       " (14, 'R&B/Soul', 53, 0.05042816365366318),\n",
       " (6, 'Blues', 36, 0.03425309229305423),\n",
       " (23, 'Alternative', 35, 0.03330161750713606),\n",
       " (9, 'Pop', 22, 0.02093244529019981),\n",
       " (7, 'Latin', 22, 0.02093244529019981),\n",
       " (17, 'Hip Hop/Rap', 20, 0.019029495718363463),\n",
       " (2, 'Jazz', 14, 0.013320647002854425)]"
      ]
     },
     "execution_count": 4,
     "metadata": {},
     "output_type": "execute_result"
    }
   ],
   "source": [
    "%%sql\n",
    "WITH \n",
    "    usa AS\n",
    "        (\n",
    "        SELECT * FROM invoice\n",
    "        WHERE billing_country = 'USA'\n",
    "        ),\n",
    "    tot_tracks_sold AS\n",
    "        (\n",
    "        SELECT\n",
    "        SUM(il.quantity) quantity_tot\n",
    "        FROM invoice_line il \n",
    "        LEFT JOIN invoice i ON il.invoice_id = i.invoice_id\n",
    "        WHERE i.billing_country = 'USA'\n",
    "        )\n",
    "    \n",
    "\n",
    "SELECT\n",
    "    t.genre_id,\n",
    "    g.name genre_name,\n",
    "    SUM(il.quantity) tracks_sold,\n",
    "    CAST(SUM(il.quantity) as Float) / CAST((SELECT\n",
    "                                            * FROM tot_tracks_sold\n",
    "                                           ) as Float) percentage\n",
    "FROM invoice_line il \n",
    "LEFT JOIN track t ON il.track_id = t.track_id\n",
    "INNER JOIN usa ON usa.invoice_id = il.invoice_id\n",
    "LEFT JOIN genre g ON g.genre_id = t.genre_id\n",
    "\n",
    "GROUP BY 1\n",
    "ORDER BY 3 DESC\n",
    "LIMIT 10\n"
   ]
  },
  {
   "cell_type": "markdown",
   "metadata": {},
   "source": [
    "Rock, Punk and metal are in the top 3 genres in the USA, with rock clearly leading."
   ]
  },
  {
   "cell_type": "markdown",
   "metadata": {},
   "source": [
    "### Checking employee performance"
   ]
  },
  {
   "cell_type": "markdown",
   "metadata": {},
   "source": [
    "Now we want to see if there are any employees who are performing particularly well."
   ]
  },
  {
   "cell_type": "code",
   "execution_count": 5,
   "metadata": {},
   "outputs": [
    {
     "name": "stdout",
     "output_type": "stream",
     "text": [
      " * sqlite:///chinook.db\n",
      "Done.\n"
     ]
    },
    {
     "data": {
      "text/html": [
       "<table>\n",
       "    <tr>\n",
       "        <th>employee</th>\n",
       "        <th>hire_date</th>\n",
       "        <th>total_sales</th>\n",
       "    </tr>\n",
       "    <tr>\n",
       "        <td>Jane Peacock</td>\n",
       "        <td>2017-04-01 00:00:00</td>\n",
       "        <td>1731.51</td>\n",
       "    </tr>\n",
       "    <tr>\n",
       "        <td>Margaret Park</td>\n",
       "        <td>2017-05-03 00:00:00</td>\n",
       "        <td>1584.0</td>\n",
       "    </tr>\n",
       "    <tr>\n",
       "        <td>Steve Johnson</td>\n",
       "        <td>2017-10-17 00:00:00</td>\n",
       "        <td>1393.92</td>\n",
       "    </tr>\n",
       "</table>"
      ],
      "text/plain": [
       "[('Jane Peacock', '2017-04-01 00:00:00', 1731.51),\n",
       " ('Margaret Park', '2017-05-03 00:00:00', 1584.0),\n",
       " ('Steve Johnson', '2017-10-17 00:00:00', 1393.92)]"
      ]
     },
     "execution_count": 5,
     "metadata": {},
     "output_type": "execute_result"
    }
   ],
   "source": [
    "%%sql\n",
    "SELECT\n",
    "    e.first_name || ' ' || e.last_name employee,\n",
    "    e.hire_date,\n",
    "    ROUND(SUM(i.total),2) total_sales\n",
    "FROM employee e\n",
    "LEFT JOIN customer c ON e.employee_id = c.support_rep_id\n",
    "LEFT JOIN invoice i ON i.customer_id = c.customer_id\n",
    "\n",
    "GROUP BY 1,2\n",
    "HAVING total_sales <> 'none'"
   ]
  },
  {
   "cell_type": "markdown",
   "metadata": {},
   "source": [
    "The performance seems balanced out between the employees."
   ]
  },
  {
   "cell_type": "markdown",
   "metadata": {},
   "source": [
    "### Sales by country"
   ]
  },
  {
   "cell_type": "markdown",
   "metadata": {},
   "source": [
    "Let's look at which countries sell the most."
   ]
  },
  {
   "cell_type": "code",
   "execution_count": 6,
   "metadata": {},
   "outputs": [
    {
     "name": "stdout",
     "output_type": "stream",
     "text": [
      " * sqlite:///chinook.db\n",
      "Done.\n"
     ]
    },
    {
     "data": {
      "text/html": [
       "<table>\n",
       "    <tr>\n",
       "        <th>country_2</th>\n",
       "        <th>customers</th>\n",
       "        <th>total_sales</th>\n",
       "        <th>average_order</th>\n",
       "        <th>customer_lifetime_value</th>\n",
       "        <th>sort</th>\n",
       "    </tr>\n",
       "    <tr>\n",
       "        <td>USA</td>\n",
       "        <td>13</td>\n",
       "        <td>1040.4899999999998</td>\n",
       "        <td>7.942671755725189</td>\n",
       "        <td>80.0376923076923</td>\n",
       "        <td>0</td>\n",
       "    </tr>\n",
       "    <tr>\n",
       "        <td>Canada</td>\n",
       "        <td>8</td>\n",
       "        <td>535.5900000000001</td>\n",
       "        <td>7.047236842105265</td>\n",
       "        <td>66.94875000000002</td>\n",
       "        <td>0</td>\n",
       "    </tr>\n",
       "    <tr>\n",
       "        <td>Brazil</td>\n",
       "        <td>5</td>\n",
       "        <td>427.68000000000006</td>\n",
       "        <td>7.0111475409836075</td>\n",
       "        <td>85.53600000000002</td>\n",
       "        <td>0</td>\n",
       "    </tr>\n",
       "    <tr>\n",
       "        <td>France</td>\n",
       "        <td>5</td>\n",
       "        <td>389.0699999999999</td>\n",
       "        <td>7.781399999999998</td>\n",
       "        <td>77.81399999999998</td>\n",
       "        <td>0</td>\n",
       "    </tr>\n",
       "    <tr>\n",
       "        <td>Germany</td>\n",
       "        <td>4</td>\n",
       "        <td>334.62</td>\n",
       "        <td>8.161463414634147</td>\n",
       "        <td>83.655</td>\n",
       "        <td>0</td>\n",
       "    </tr>\n",
       "    <tr>\n",
       "        <td>Czech Republic</td>\n",
       "        <td>2</td>\n",
       "        <td>273.24000000000007</td>\n",
       "        <td>9.108000000000002</td>\n",
       "        <td>136.62000000000003</td>\n",
       "        <td>0</td>\n",
       "    </tr>\n",
       "    <tr>\n",
       "        <td>United Kingdom</td>\n",
       "        <td>3</td>\n",
       "        <td>245.52</td>\n",
       "        <td>8.768571428571429</td>\n",
       "        <td>81.84</td>\n",
       "        <td>0</td>\n",
       "    </tr>\n",
       "    <tr>\n",
       "        <td>Portugal</td>\n",
       "        <td>2</td>\n",
       "        <td>185.13000000000002</td>\n",
       "        <td>6.383793103448276</td>\n",
       "        <td>92.56500000000001</td>\n",
       "        <td>0</td>\n",
       "    </tr>\n",
       "    <tr>\n",
       "        <td>India</td>\n",
       "        <td>2</td>\n",
       "        <td>183.14999999999998</td>\n",
       "        <td>8.72142857142857</td>\n",
       "        <td>91.57499999999999</td>\n",
       "        <td>0</td>\n",
       "    </tr>\n",
       "    <tr>\n",
       "        <td>Other</td>\n",
       "        <td>15</td>\n",
       "        <td>1094.9399999999998</td>\n",
       "        <td>7.4485714285714275</td>\n",
       "        <td>72.996</td>\n",
       "        <td>1</td>\n",
       "    </tr>\n",
       "</table>"
      ],
      "text/plain": [
       "[('USA', 13, 1040.4899999999998, 7.942671755725189, 80.0376923076923, 0),\n",
       " ('Canada', 8, 535.5900000000001, 7.047236842105265, 66.94875000000002, 0),\n",
       " ('Brazil', 5, 427.68000000000006, 7.0111475409836075, 85.53600000000002, 0),\n",
       " ('France', 5, 389.0699999999999, 7.781399999999998, 77.81399999999998, 0),\n",
       " ('Germany', 4, 334.62, 8.161463414634147, 83.655, 0),\n",
       " ('Czech Republic', 2, 273.24000000000007, 9.108000000000002, 136.62000000000003, 0),\n",
       " ('United Kingdom', 3, 245.52, 8.768571428571429, 81.84, 0),\n",
       " ('Portugal', 2, 185.13000000000002, 6.383793103448276, 92.56500000000001, 0),\n",
       " ('India', 2, 183.14999999999998, 8.72142857142857, 91.57499999999999, 0),\n",
       " ('Other', 15, 1094.9399999999998, 7.4485714285714275, 72.996, 1)]"
      ]
     },
     "execution_count": 6,
     "metadata": {},
     "output_type": "execute_result"
    }
   ],
   "source": [
    "%%sql\n",
    "\n",
    "WITH \n",
    "    merge AS\n",
    "        (\n",
    "        SELECT \n",
    "            *\n",
    "        FROM invoice i\n",
    "        LEFT JOIN customer c ON i.customer_id = c.customer_id\n",
    "        ),\n",
    "    T1 AS\n",
    "        (\n",
    "        SELECT  \n",
    "            country,\n",
    "            CASE\n",
    "                WHEN COUNT(DISTINCT(customer_id)) = 1 THEN 'Other'\n",
    "                ELSE country\n",
    "                END\n",
    "                AS country_2,             \n",
    "            COUNT(DISTINCT(customer_id)) customers,\n",
    "            SUM(total) total_sales,\n",
    "            COUNT(DISTINCT(invoice_id)) invoices,\n",
    "            SUM(total) / COUNT(DISTINCT(invoice_id)) average_order,\n",
    "            SUM(total) / COUNT(DISTINCT(customer_id)) customer_lifetime_value\n",
    "        FROM merge \n",
    "        GROUP BY 1\n",
    "        ORDER BY total_sales DESC\n",
    "        ),\n",
    "    T1_2 AS\n",
    "        (\n",
    "        SELECT \n",
    "            country_2,\n",
    "            SUM(customers) customers,\n",
    "            SUM(total_sales) total_sales,\n",
    "            SUM(total_sales) / SUM(invoices) average_order,\n",
    "            SUM(total_sales) / SUM(customers) customer_lifetime_value,\n",
    "            CASE\n",
    "                WHEN country_2 = 'Other' THEN 1\n",
    "                ELSE 0\n",
    "                END\n",
    "                AS sort\n",
    "        FROM T1\n",
    "        GROUP BY country_2\n",
    "        ORDER BY total_sales DESC    \n",
    "        ),\n",
    "    T1_3 AS\n",
    "        (\n",
    "        SELECT * FROM T1_2\n",
    "        ORDER BY sort ASC\n",
    "        )\n",
    "        \n",
    "\n",
    "SELECT * FROM T1_3\n"
   ]
  },
  {
   "cell_type": "markdown",
   "metadata": {},
   "source": [
    "USA clearly sells the most."
   ]
  },
  {
   "cell_type": "markdown",
   "metadata": {
    "collapsed": true
   },
   "source": [
    "### Album vs Individual track"
   ]
  },
  {
   "cell_type": "markdown",
   "metadata": {},
   "source": [
    "We now want to compare album purchases vs singles purchases. Let's look at what sells better."
   ]
  },
  {
   "cell_type": "code",
   "execution_count": 7,
   "metadata": {},
   "outputs": [
    {
     "name": "stdout",
     "output_type": "stream",
     "text": [
      " * sqlite:///chinook.db\n",
      "Done.\n"
     ]
    },
    {
     "data": {
      "text/html": [
       "<table>\n",
       "    <tr>\n",
       "        <th>invoice_line_id</th>\n",
       "        <th>invoice_id</th>\n",
       "        <th>last_name</th>\n",
       "        <th>track_id</th>\n",
       "        <th>name</th>\n",
       "        <th>album_id</th>\n",
       "        <th>title</th>\n",
       "    </tr>\n",
       "    <tr>\n",
       "        <td>1</td>\n",
       "        <td>1</td>\n",
       "        <td>Brooks</td>\n",
       "        <td>1158</td>\n",
       "        <td>Right Next Door to Hell</td>\n",
       "        <td>91</td>\n",
       "        <td>Use Your Illusion I</td>\n",
       "    </tr>\n",
       "    <tr>\n",
       "        <td>2</td>\n",
       "        <td>1</td>\n",
       "        <td>Brooks</td>\n",
       "        <td>1159</td>\n",
       "        <td>Dust N&#x27; Bones</td>\n",
       "        <td>91</td>\n",
       "        <td>Use Your Illusion I</td>\n",
       "    </tr>\n",
       "    <tr>\n",
       "        <td>3</td>\n",
       "        <td>1</td>\n",
       "        <td>Brooks</td>\n",
       "        <td>1160</td>\n",
       "        <td>Live and Let Die</td>\n",
       "        <td>91</td>\n",
       "        <td>Use Your Illusion I</td>\n",
       "    </tr>\n",
       "    <tr>\n",
       "        <td>4</td>\n",
       "        <td>1</td>\n",
       "        <td>Brooks</td>\n",
       "        <td>1161</td>\n",
       "        <td>Don&#x27;t Cry (Original)</td>\n",
       "        <td>91</td>\n",
       "        <td>Use Your Illusion I</td>\n",
       "    </tr>\n",
       "    <tr>\n",
       "        <td>5</td>\n",
       "        <td>1</td>\n",
       "        <td>Brooks</td>\n",
       "        <td>1162</td>\n",
       "        <td>Perfect Crime</td>\n",
       "        <td>91</td>\n",
       "        <td>Use Your Illusion I</td>\n",
       "    </tr>\n",
       "    <tr>\n",
       "        <td>6</td>\n",
       "        <td>1</td>\n",
       "        <td>Brooks</td>\n",
       "        <td>1163</td>\n",
       "        <td>You Ain&#x27;t the First</td>\n",
       "        <td>91</td>\n",
       "        <td>Use Your Illusion I</td>\n",
       "    </tr>\n",
       "    <tr>\n",
       "        <td>7</td>\n",
       "        <td>1</td>\n",
       "        <td>Brooks</td>\n",
       "        <td>1164</td>\n",
       "        <td>Bad Obsession</td>\n",
       "        <td>91</td>\n",
       "        <td>Use Your Illusion I</td>\n",
       "    </tr>\n",
       "    <tr>\n",
       "        <td>8</td>\n",
       "        <td>1</td>\n",
       "        <td>Brooks</td>\n",
       "        <td>1165</td>\n",
       "        <td>Back off Bitch</td>\n",
       "        <td>91</td>\n",
       "        <td>Use Your Illusion I</td>\n",
       "    </tr>\n",
       "    <tr>\n",
       "        <td>9</td>\n",
       "        <td>1</td>\n",
       "        <td>Brooks</td>\n",
       "        <td>1166</td>\n",
       "        <td>Double Talkin&#x27; Jive</td>\n",
       "        <td>91</td>\n",
       "        <td>Use Your Illusion I</td>\n",
       "    </tr>\n",
       "    <tr>\n",
       "        <td>10</td>\n",
       "        <td>1</td>\n",
       "        <td>Brooks</td>\n",
       "        <td>1167</td>\n",
       "        <td>November Rain</td>\n",
       "        <td>91</td>\n",
       "        <td>Use Your Illusion I</td>\n",
       "    </tr>\n",
       "</table>"
      ],
      "text/plain": [
       "[(1, 1, 'Brooks', 1158, 'Right Next Door to Hell', 91, 'Use Your Illusion I'),\n",
       " (2, 1, 'Brooks', 1159, \"Dust N' Bones\", 91, 'Use Your Illusion I'),\n",
       " (3, 1, 'Brooks', 1160, 'Live and Let Die', 91, 'Use Your Illusion I'),\n",
       " (4, 1, 'Brooks', 1161, \"Don't Cry (Original)\", 91, 'Use Your Illusion I'),\n",
       " (5, 1, 'Brooks', 1162, 'Perfect Crime', 91, 'Use Your Illusion I'),\n",
       " (6, 1, 'Brooks', 1163, \"You Ain't the First\", 91, 'Use Your Illusion I'),\n",
       " (7, 1, 'Brooks', 1164, 'Bad Obsession', 91, 'Use Your Illusion I'),\n",
       " (8, 1, 'Brooks', 1165, 'Back off Bitch', 91, 'Use Your Illusion I'),\n",
       " (9, 1, 'Brooks', 1166, \"Double Talkin' Jive\", 91, 'Use Your Illusion I'),\n",
       " (10, 1, 'Brooks', 1167, 'November Rain', 91, 'Use Your Illusion I')]"
      ]
     },
     "execution_count": 7,
     "metadata": {},
     "output_type": "execute_result"
    }
   ],
   "source": [
    "%%sql\n",
    "\n",
    "SELECT\n",
    "il.invoice_line_id,\n",
    "il.invoice_id,\n",
    "c.last_name,\n",
    "t.track_id,\n",
    "t.name,\n",
    "a.album_id,\n",
    "a.title\n",
    "\n",
    "FROM invoice_line il\n",
    "LEFT JOIN invoice i ON il.invoice_id = i.invoice_id\n",
    "LEFT JOIN track t ON t.track_id = il.track_id\n",
    "LEFT JOIN album a ON a.album_id = t.album_id\n",
    "LEFT JOIN customer c ON c.customer_id = i.customer_id\n",
    "\n",
    "LIMIT 10"
   ]
  },
  {
   "cell_type": "code",
   "execution_count": 8,
   "metadata": {},
   "outputs": [
    {
     "name": "stdout",
     "output_type": "stream",
     "text": [
      " * sqlite:///chinook.db\n",
      "Done.\n"
     ]
    },
    {
     "data": {
      "text/html": [
       "<table>\n",
       "    <tr>\n",
       "        <th>number_of_invoices</th>\n",
       "        <th>album_purchase</th>\n",
       "        <th>percentage</th>\n",
       "    </tr>\n",
       "    <tr>\n",
       "        <td>500</td>\n",
       "        <td>no</td>\n",
       "        <td>0.8143322475570033</td>\n",
       "    </tr>\n",
       "    <tr>\n",
       "        <td>114</td>\n",
       "        <td>yes</td>\n",
       "        <td>0.18566775244299674</td>\n",
       "    </tr>\n",
       "</table>"
      ],
      "text/plain": [
       "[(500, 'no', 0.8143322475570033), (114, 'yes', 0.18566775244299674)]"
      ]
     },
     "execution_count": 8,
     "metadata": {},
     "output_type": "execute_result"
    }
   ],
   "source": [
    "%%sql\n",
    "\n",
    "WITH \n",
    "    merge AS\n",
    "        (\n",
    "        SELECT\n",
    "            il.invoice_line_id,\n",
    "            il.invoice_id,\n",
    "            c.last_name,\n",
    "            t.track_id,\n",
    "            t.name,\n",
    "            a.album_id,\n",
    "            a.title\n",
    "        FROM invoice_line il\n",
    "        LEFT JOIN invoice i ON il.invoice_id = i.invoice_id\n",
    "        LEFT JOIN track t ON t.track_id = il.track_id\n",
    "        LEFT JOIN album a ON a.album_id = t.album_id\n",
    "        LEFT JOIN customer c ON c.customer_id = i.customer_id\n",
    "        ),\n",
    "    album_track1 AS\n",
    "        (\n",
    "        SELECT \n",
    "            album_id,\n",
    "            MIN(track_id) a_track1\n",
    "        FROM track\n",
    "        GROUP BY album_id\n",
    "        ORDER BY 2\n",
    "        ),\n",
    "    ifs AS\n",
    "        (\n",
    "        SELECT\n",
    "            invoice_id,\n",
    "            MIN(track_id) first_track_id\n",
    "        FROM invoice_line\n",
    "        GROUP BY invoice_id\n",
    "        ORDER BY 2\n",
    "        ),\n",
    "    T1 AS\n",
    "        (\n",
    "        SELECT\n",
    "            ifs.*,\n",
    "            CASE\n",
    "                WHEN\n",
    "                    (\n",
    "                    SELECT t.track_id FROM track t   \n",
    "                    WHERE t.album_id = (\n",
    "                                        SELECT t2.album_id FROM track t2\n",
    "                                        WHERE t2.track_id = ifs.first_track_id\n",
    "                                        ) \n",
    "                        \n",
    "                    EXCEPT\n",
    "                        \n",
    "                    SELECT il2.track_id FROM invoice_line il2\n",
    "                    WHERE ifs.invoice_id = il2.invoice_id\n",
    "                    ) IS NULL            \n",
    "            \n",
    "                AND\n",
    "            \n",
    "                    (\n",
    "                    SELECT il2.track_id FROM invoice_line il2\n",
    "                    WHERE ifs.invoice_id = il2.invoice_id\n",
    "                     \n",
    "                    EXCEPT\n",
    "                     \n",
    "                    SELECT t.track_id FROM track t   \n",
    "                    WHERE t.album_id = (\n",
    "                                        SELECT t2.album_id FROM track t2\n",
    "                                        WHERE t2.track_id = ifs.first_track_id\n",
    "                                        ) \n",
    "                        \n",
    "                    ) IS NULL\n",
    "                THEN \"yes\"\n",
    "                ELSE \"no\"\n",
    "                END\n",
    "                AS \"album_purchase\"\n",
    "            FROM ifs\n",
    "        ),\n",
    "    T2 AS\n",
    "        (\n",
    "        SELECT\n",
    "        COUNT(invoice_id) number_of_invoices,\n",
    "        album_purchase,\n",
    "        CAST(COUNT(invoice_id) as FLoat) / (SELECT COUNT(*) FROM T1) percentage\n",
    "        FROM T1\n",
    "        GROUP BY album_purchase\n",
    "        )\n",
    "    \n",
    "SELECT * FROM T2\n",
    "\n",
    "    \n",
    "\n",
    "\n"
   ]
  },
  {
   "cell_type": "markdown",
   "metadata": {},
   "source": [
    "Singles clearly sell a lot more, representing 81% of sales."
   ]
  },
  {
   "cell_type": "code",
   "execution_count": null,
   "metadata": {},
   "outputs": [],
   "source": []
  }
 ],
 "metadata": {
  "kernelspec": {
   "display_name": "Python 3",
   "language": "python",
   "name": "python3"
  },
  "language_info": {
   "codemirror_mode": {
    "name": "ipython",
    "version": 3
   },
   "file_extension": ".py",
   "mimetype": "text/x-python",
   "name": "python",
   "nbconvert_exporter": "python",
   "pygments_lexer": "ipython3",
   "version": "3.7.4"
  }
 },
 "nbformat": 4,
 "nbformat_minor": 2
}
